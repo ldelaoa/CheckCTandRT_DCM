{
 "cells": [
  {
   "cell_type": "code",
   "execution_count": null,
   "id": "187dfea8",
   "metadata": {},
   "outputs": [],
   "source": [
    "#V2 will check if the path is empty in the csv. \n",
    "#If empty and available fill it,not empty not rewrite it\n",
    "#v3 do it withoyt RT STRuctBuilder\n",
    "#v4 again with RTStruct Builder,  because v3 was incomplete, but now it does it with both ITV and GTVs labels separately\n",
    "#v5, same as v4 but clean"
   ]
  },
  {
   "cell_type": "code",
   "execution_count": null,
   "id": "1b96bfb0",
   "metadata": {},
   "outputs": [],
   "source": [
    "from rt_utils import RTStructBuilder\n",
    "import matplotlib.pyplot as plt\n",
    "import numpy as np\n",
    "import pydicom\n",
    "import os\n",
    "import csv\n",
    "import re\n",
    "import pandas as pd"
   ]
  },
  {
   "cell_type": "code",
   "execution_count": null,
   "id": "b6473b28",
   "metadata": {},
   "outputs": [],
   "source": [
    "def LookForLabelMatch(ListOfNamesinRT,LabelsToLookFor,currPathTemp):\n",
    "    tempList = []\n",
    "    for labeltot in LabelsToLookFor:\n",
    "        if labeltot in ListOfNamesinRT:\n",
    "            tempList.append(currPathTemp)\n",
    "            return tempList\n",
    "    return tempList"
   ]
  },
  {
   "cell_type": "code",
   "execution_count": null,
   "id": "e1d57ca1",
   "metadata": {},
   "outputs": [],
   "source": [
    "def GetTheContourRTMatch(ctfolder,rtfolder,itv_tot_labels,itv_tumor_labels,itv_ln_labels,gtv_tot_labels,gtv_tumor_labels,gtv_ln_labels):\n",
    "    singlematch = False # If one RT file has already been matched you dont need to loop to the next one. In theory only one RTStruct should be necessary\n",
    "    ct_Match = []\n",
    "    totGTV_Match, tumorGTV_Match, lnGTV_Match = ([],[],[])\n",
    "    totITV_Match, tumorITV_Match, lnITV_Match = ([],[],[])\n",
    "    gtv_bool = False\n",
    "    itv_bool = False\n",
    "    if len(ctfolder)==0:\n",
    "        print(\"No CT\")\n",
    "    for k in range(len(ctfolder)):\n",
    "        for j in range(len(rtfolder)):\n",
    "            rtfiles = os.listdir(rtfolder[j])\n",
    "            for i in range(len(rtfiles)):\n",
    "                if not singlematch:\n",
    "                    try:\n",
    "                        print(\"check\",i,j,k)\n",
    "                        \n",
    "                        rtstruct = RTStructBuilder.create_from(dicom_series_path=ctfolder[k],rt_struct_path=str(rtfolder[j]+rtfiles[i]))\n",
    "\n",
    "                        totITV_Match = LookForLabelMatch(rtstruct.get_roi_names(),itv_tot_labels,str(rtfolder[j]+rtfiles[i]))\n",
    "                        tumorITV_Match = LookForLabelMatch(rtstruct.get_roi_names(),itv_tumor_labels,str(rtfolder[j]+rtfiles[i]))\n",
    "                        lnITV_Match = LookForLabelMatch(rtstruct.get_roi_names(),itv_ln_labels,str(rtfolder[j]+rtfiles[i]))\n",
    "\n",
    "                        totGTV_Match = LookForLabelMatch(rtstruct.get_roi_names(),gtv_tot_labels,str(rtfolder[j]+rtfiles[i]))\n",
    "                        tumorGTV_Match = LookForLabelMatch(rtstruct.get_roi_names(),gtv_tumor_labels,str(rtfolder[j]+rtfiles[i]))\n",
    "                        lnGTV_Match = LookForLabelMatch(rtstruct.get_roi_names(),gtv_ln_labels,str(rtfolder[j]+rtfiles[i]))\n",
    "\n",
    "                        if len(totITV_Match) ==0 and len(tumorITV_Match)+len(lnITV_Match) == 0:\n",
    "                            print(\"No labels Matched for ITV\",rtfiles[i],rtstruct.get_roi_names())\n",
    "                        else: itv_bool = True\n",
    "                        \n",
    "                        if len(totGTV_Match) ==0 and len(tumorGTV_Match)+len(lnGTV_Match) == 0:\n",
    "                            print(\"No labels Matched for GTV\",rtfiles[i],rtstruct.get_roi_names())\n",
    "                        else: gtv_bool = True\n",
    "                        \n",
    "                        if (len(totITV_Match)>0 or len(tumorITV_Match)+len(lnITV_Match)>0) or (len(totGTV_Match)>0 or len(tumorGTV_Match)+len(lnGTV_Match) >0):\n",
    "                            ct_Match.append(ctfolder[k])\n",
    "                            print(\"M ITV\",\"tot\",len(totITV_Match),\"tumor\",len(tumorITV_Match),\"LN\",len(lnITV_Match))\n",
    "                            print(\"M GTV\",\"tot\",len(totGTV_Match),\"tumor\",len(tumorGTV_Match),\"LN\",len(lnGTV_Match))\n",
    "                            if len(totITV_Match) == 0: totITV_Match.append('0')\n",
    "                            if len(tumorITV_Match) == 0: tumorITV_Match.append('0')\n",
    "                            if len(lnITV_Match) == 0: lnITV_Match.append('0')\n",
    "                            if len(totGTV_Match) == 0: totGTV_Match.append('0')\n",
    "                            if len(tumorGTV_Match) == 0: tumorGTV_Match.append('0')\n",
    "                            if len(lnGTV_Match) == 0: lnGTV_Match.append('0')\n",
    "                                \n",
    "                        if gtv_bool and itv_bool:\n",
    "                            singlematch = True\n",
    "                    except Exception as e: print(e)#pass\n",
    "\n",
    "        #mask_3d = rtstruct.get_roi_mask_by_name(label)\n",
    "    return ct_Match,totITV_Match, tumorITV_Match, lnITV_Match,totGTV_Match, tumorGTV_Match, lnGTV_Match"
   ]
  },
  {
   "cell_type": "code",
   "execution_count": null,
   "id": "9d9cf4dd",
   "metadata": {},
   "outputs": [],
   "source": [
    "#Hard coding labels, dont change\n",
    "# ITV Labels\n",
    "itv_tot_labels = [\"ITV\", \"IGTV\", \"IgTV\", \"ITV1\", \"ITV2\", \"ITV3\", \"ITV totaal def\", \"2ITV\", \"ITV_TOT\", \"ITV_6000\", \"ITV_5100\", \"ITV_Totaal\", \"ITV_LBK\", \"ITV_LOK\", \"IGTV_6000\"]\n",
    "itv_tumor_labels = [\"ITVtumor\", \"ITV_tumor\", \"ITVtumor def\", \"2ITV_tumor\", \"ITV-P\", \"ITVtumorA1\", \"ITV_tumor_LBK\", \"ITVtu\", \"IGTVp\"]\n",
    "itv_ln_labels = [\"ITVklieren\", \"ITV_klier\", \"ITV_Klier\", \"ITVklieren def\", \"2ITV_klier\", \"ITV_n\", \"ITV_klier_LBK\", \"IGTVnode\"]\n",
    "\n",
    "# GTV Labels\n",
    "gtv_tot_labels = [\"GTV\", \"GTV1\", \"GTV2\", \"GTV3\", \"GTV totaal def\", \"2GTV\", \"GTV_TOT\", \"GTV_6000\", \"GTV_5100\", \"GTV_Totaal\", \"GTV_LBK\", \"GTV_LOK\", \"GTV_5000\", \"GTV_preop\", \"GTV_totaal\", \"GTV_voor OK\", \"GTVtotaal\", \"GTVnew\", \"GTV(op exp)\", \"GTVop\", \"GTV_voor OK\", \"GTV oorspr\"]\n",
    "gtv_tumor_labels = [\"GTVtumor\", \"GTV_tumor\", \"GTVtumor def\", \"2GTV_tumor\", \"GTV-P\", \"GTVtumorA1\", \"GTV_tumor_LBK\", \"GTV tumor\", \"GTVp\", \"GTVtu\", \"GTVtumor_exp\", \"GTVtumor_exp_50->0\", \"GTVtumor_insp\", \"GTVpatelectasebewaren(1)\", \"GTVt\"]\n",
    "gtv_ln_labels = [\"GTVklieren\", \"GTV_klier\", \"GTV_Klier\", \"GTVklieren def\", \"2GTV_klier\", \"GTV_n\", \"GTV_klier_LBK\", \"GTVn\", \"GTVnode_exp\", \"GTVnodes_exp\", \"GTVnodes_exp_50->0\", \"GTVnodes_insp\", \"GTVklieren\"]\n",
    "\n",
    "fieldnames=['ID', 'CT', 'ITVTot', 'ITVTumor', 'ITVLN', 'GTVtot', 'GTVTumor', 'GTVLN']\n"
   ]
  },
  {
   "cell_type": "code",
   "execution_count": null,
   "id": "ee20ad48",
   "metadata": {},
   "outputs": [],
   "source": [
    "#GET PATHS AND LABELS\n",
    "#Where to look for file\n",
    "root_path  = \"//zkh/appdata/RTDicom/Projectline_modelling_lung_cancer/DICOM_data/DATA_VOLLEDIG_unstructured/\"\n",
    "\n",
    "#Where the results will be saved (CSV) [@Robert->Change this so it saves in your folder]\n",
    "csv_file_path = \"//zkh/appdata/RTDicom/Projectline_modelling_lung_cancer/Users/Luis/CSVs/TestCSV_Delete.csv\"\n",
    "\n",
    "#Patient list  to look for in txt [@Robert->Change this so it points to the list of patients you care about]\n",
    "PxListPath = '//zkh/appdata/RTDicom/Projectline_modelling_lung_cancer/Users/Luis/ListsOfPatients/MissingCTRTPx_Feb29.txt'\n",
    "PxList = pd.read_csv(PxListPath,header=None,dtype=str)\n"
   ]
  },
  {
   "cell_type": "code",
   "execution_count": null,
   "id": "c6290c03",
   "metadata": {},
   "outputs": [],
   "source": [
    "#Look for patients already been analized (Ignore if this is the first time you run it)\n",
    "if os.path.exists(csv_file_path):\n",
    "    df = pd.read_csv(csv_file_path)\n",
    "    checked_list = df['ID'].tolist()\n",
    "    print(len(checked_list),\"Px already checked,\",len(PxList),\"Missing\")\n",
    "else:\n",
    "    checked_list = []"
   ]
  },
  {
   "cell_type": "code",
   "execution_count": null,
   "id": "c0f12293",
   "metadata": {
    "scrolled": true
   },
   "outputs": [],
   "source": [
    "#MAIN \n",
    "with open(csv_file_path, 'a', newline='') as csvfile:\n",
    "    writer = csv.DictWriter(csvfile, fieldnames=fieldnames)\n",
    "    if csvfile.tell() == 0:\n",
    "        writer.writeheader()\n",
    "\n",
    "\n",
    "    for Px in PxList[0]:\n",
    "        strPx = str(Px)\n",
    "        strPx = strPx.zfill(7)\n",
    "        Px = strPx\n",
    "        AvgCt_fpaths = []\n",
    "        RTStruct_fpaths = []\n",
    "\n",
    "        if int(Px) in checked_list:\n",
    "            print(Px,\"Px already checked\")\n",
    "        else:\n",
    "            for root, dirs, files in os.walk(root_path+Px, topdown=True):\n",
    "                for d in dirs:\n",
    "                    if \"Thorax\" in d or \"Ave\" in d or \"MIP\" in d: #(\"CT\" in d and not \"RTSTRUCT\" in d): #\"%\" in d or \n",
    "                        AvgCt_fpaths.append(root+'/'+d+'/')\n",
    "                    if ('RTSTRUCT' in d or \"pproved\" in d) or (\"PinnPlan\" in d and not(\"RTDOSE\" in d)):\n",
    "                        RTStruct_fpaths.append(root+'/'+d+'/')\n",
    "\n",
    "\n",
    "            print(\"Px\",Px,\"Num CTs\",len(AvgCt_fpaths),\"Num RTs\",len(RTStruct_fpaths))\n",
    "\n",
    "            ctMatch,rtMatch_ITVtot,rtMatch_ITVtumor,rtMatch_ITVln,rtMatch_GTVtot,rtMatch_GTVtumor,rtMatch_GTVln = GetTheContourRTMatch(AvgCt_fpaths,RTStruct_fpaths,itv_tot_labels,itv_tumor_labels,itv_ln_labels,gtv_tot_labels,gtv_tumor_labels,gtv_ln_labels)\n",
    "\n",
    "            if len(ctMatch) == 0 :\n",
    "                print(\"No Match\")\n",
    "            else: \n",
    "                print(\"Yes Match\")\n",
    "                \n",
    "                writer.writerow({'ID':Px,'CT':ctMatch,'ITVTot':rtMatch_ITVtot,'ITVTumor':rtMatch_ITVtumor,'ITVLN':rtMatch_ITVln,'GTVtot':rtMatch_GTVtot,'GTVTumor':rtMatch_GTVtumor,'GTVLN':rtMatch_GTVln})\n"
   ]
  },
  {
   "cell_type": "code",
   "execution_count": null,
   "id": "480d7288",
   "metadata": {},
   "outputs": [],
   "source": []
  },
  {
   "cell_type": "code",
   "execution_count": null,
   "id": "deb8e8aa",
   "metadata": {},
   "outputs": [],
   "source": []
  },
  {
   "cell_type": "code",
   "execution_count": null,
   "id": "c5f8579b",
   "metadata": {},
   "outputs": [],
   "source": [
    "\n"
   ]
  },
  {
   "cell_type": "code",
   "execution_count": null,
   "id": "5c5dd125",
   "metadata": {},
   "outputs": [],
   "source": []
  },
  {
   "cell_type": "code",
   "execution_count": null,
   "id": "cbadaa0e",
   "metadata": {
    "scrolled": true
   },
   "outputs": [],
   "source": []
  },
  {
   "cell_type": "code",
   "execution_count": null,
   "id": "9f52db82",
   "metadata": {
    "scrolled": true
   },
   "outputs": [],
   "source": []
  },
  {
   "cell_type": "code",
   "execution_count": null,
   "id": "7b8f325f",
   "metadata": {},
   "outputs": [],
   "source": []
  },
  {
   "cell_type": "code",
   "execution_count": null,
   "id": "d58b5ee3",
   "metadata": {},
   "outputs": [],
   "source": []
  },
  {
   "cell_type": "code",
   "execution_count": null,
   "id": "d5bd73c7",
   "metadata": {},
   "outputs": [],
   "source": []
  }
 ],
 "metadata": {
  "kernelspec": {
   "display_name": "Python 3 (ipykernel)",
   "language": "python",
   "name": "python3"
  },
  "language_info": {
   "codemirror_mode": {
    "name": "ipython",
    "version": 3
   },
   "file_extension": ".py",
   "mimetype": "text/x-python",
   "name": "python",
   "nbconvert_exporter": "python",
   "pygments_lexer": "ipython3",
   "version": "3.10.12"
  }
 },
 "nbformat": 4,
 "nbformat_minor": 5
}
